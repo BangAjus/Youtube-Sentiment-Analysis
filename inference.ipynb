{
 "cells": [
  {
   "cell_type": "code",
   "execution_count": 1,
   "metadata": {},
   "outputs": [],
   "source": [
    "from pickle import dump, load\n",
    "from tensorflow.keras.models import Sequential, load_model\n",
    "import pandas as pd\n",
    "import numpy as np"
   ]
  },
  {
   "cell_type": "code",
   "execution_count": 2,
   "metadata": {},
   "outputs": [
    {
     "name": "stderr",
     "output_type": "stream",
     "text": [
      "[nltk_data] Downloading package stopwords to\n",
      "[nltk_data]     C:\\Users\\User\\AppData\\Roaming\\nltk_data...\n",
      "[nltk_data]   Package stopwords is already up-to-date!\n",
      "[nltk_data] Downloading package punkt to\n",
      "[nltk_data]     C:\\Users\\User\\AppData\\Roaming\\nltk_data...\n",
      "[nltk_data]   Package punkt is already up-to-date!\n"
     ]
    },
    {
     "data": {
      "text/plain": [
       "True"
      ]
     },
     "execution_count": 2,
     "metadata": {},
     "output_type": "execute_result"
    }
   ],
   "source": [
    "import nltk\n",
    "from nltk.corpus import stopwords\n",
    "from nltk.tokenize import word_tokenize\n",
    "import re\n",
    "from nltk.stem import PorterStemmer\n",
    "\n",
    "# Download the stopwords if not already downloaded\n",
    "nltk.download('stopwords')\n",
    "nltk.download('punkt')"
   ]
  },
  {
   "cell_type": "code",
   "execution_count": 3,
   "metadata": {},
   "outputs": [],
   "source": [
    "from transformers import BertModel, BertTokenizer\n",
    "import torch"
   ]
  },
  {
   "cell_type": "code",
   "execution_count": 4,
   "metadata": {},
   "outputs": [],
   "source": [
    "def full_text_cleaning(text):\n",
    "\n",
    "    pattern = r'[A-Za-z]+'\n",
    "    stop_words = set(stopwords.words('english'))\n",
    "    stemmer = PorterStemmer()\n",
    "\n",
    "    text = re.findall(pattern, text)\n",
    "    text = \" \".join(text).lower()\n",
    "    text = word_tokenize(text)\n",
    "    text = [i for i in text if i.lower() not in stop_words]\n",
    "\n",
    "    text = ' '.join([stemmer.stem(i) for i in text])\n",
    "\n",
    "    return text"
   ]
  },
  {
   "cell_type": "code",
   "execution_count": 11,
   "metadata": {},
   "outputs": [
    {
     "name": "stderr",
     "output_type": "stream",
     "text": [
      "C:\\Users\\User\\AppData\\Local\\Programs\\Python\\Python38\\lib\\site-packages\\torch\\storage.py:414: FutureWarning: You are using `torch.load` with `weights_only=False` (the current default value), which uses the default pickle module implicitly. It is possible to construct malicious pickle data which will execute arbitrary code during unpickling (See https://github.com/pytorch/pytorch/blob/main/SECURITY.md#untrusted-models for more details). In a future release, the default value for `weights_only` will be flipped to `True`. This limits the functions that could be executed during unpickling. Arbitrary objects will no longer be allowed to be loaded via this mode unless they are explicitly allowlisted by the user via `torch.serialization.add_safe_globals`. We recommend you start setting `weights_only=True` for any use case where you don't have full control of the loaded file. Please open an issue on GitHub for any issues related to this experimental feature.\n",
      "  return torch.load(io.BytesIO(b))\n"
     ]
    }
   ],
   "source": [
    "tokenizer = load(open('bert_tokenizer.pkl', 'rb'))\n",
    "bert_model = load(open('bert_model.pkl', 'rb'))"
   ]
  },
  {
   "cell_type": "code",
   "execution_count": 12,
   "metadata": {},
   "outputs": [],
   "source": [
    "def extract_features(texts):\n",
    "\n",
    "    embeddings = []\n",
    "    for text in texts:\n",
    "\n",
    "        inputs = tokenizer.encode(text,\n",
    "                                  add_special_tokens=True,\n",
    "                                  return_tensors='pt',\n",
    "                                  return_truncation=True,\n",
    "                                  max_length=512)\n",
    "\n",
    "        with torch.no_grad():\n",
    "            model_output = bert_model(inputs)\n",
    "            last_hidden_states = model_output.last_hidden_state\n",
    "\n",
    "        embeddings.append(last_hidden_states[:, 0 ,:]\\\n",
    "                          .squeeze()\\\n",
    "                          .numpy())\n",
    "\n",
    "    return np.array(embeddings)"
   ]
  },
  {
   "cell_type": "code",
   "execution_count": 31,
   "metadata": {},
   "outputs": [],
   "source": [
    "def inference(schema):\n",
    "\n",
    "    new_data = pd.read_csv('youtube_clean.csv')\n",
    "    for i in range(10):\n",
    "        new_data = new_data.sample(frac=1)\n",
    "    new_data = new_data['text'].head(50)\\\n",
    "                               .apply(lambda x: str(x))\n",
    "    new_content = new_data.copy()\n",
    "\n",
    "    new_data = new_data.apply(full_text_cleaning)\n",
    "    new_data = extract_features(new_data)\n",
    "\n",
    "    if schema == 'strategy 1':\n",
    "\n",
    "        model = load_model('model1.h5')\n",
    "        predictions = model.predict(new_data)\n",
    "        predicted_classes = np.argmax(predictions, axis=1)\n",
    "\n",
    "    if schema == 'strategy 2':\n",
    "\n",
    "        model2 = load(open('model2.pkl', 'rb'))\n",
    "        predictions = model2.predict(new_data)\n",
    "        predicted_classes = predictions\n",
    "\n",
    "    if schema == 'strategy 3':\n",
    "\n",
    "        model3 = load_model('model1.h5')\n",
    "        predictions = model3.predict(new_data)\n",
    "        predicted_classes = np.argmax(predictions, axis=1)\n",
    "\n",
    "    predicted_df = pd.DataFrame({'text':new_content,\n",
    "                                 'label':predicted_classes})\\\n",
    "                                 .reset_index(drop=True)\\\n",
    "                                 .replace({0:'Negatif',\n",
    "                                           1:'Netral',\n",
    "                                           2:'Positif'})\n",
    "\n",
    "    return predicted_df"
   ]
  },
  {
   "cell_type": "code",
   "execution_count": 34,
   "metadata": {},
   "outputs": [
    {
     "name": "stderr",
     "output_type": "stream",
     "text": [
      "Keyword arguments {'return_truncation': True} not recognized.\n"
     ]
    }
   ],
   "source": [
    "schema = 'strategy 3'\n",
    "inference(schema)"
   ]
  },
  {
   "cell_type": "code",
   "execution_count": null,
   "metadata": {},
   "outputs": [],
   "source": []
  }
 ],
 "metadata": {
  "kernelspec": {
   "display_name": "Python 3 (ipykernel)",
   "language": "python",
   "name": "python3"
  },
  "language_info": {
   "codemirror_mode": {
    "name": "ipython",
    "version": 3
   },
   "file_extension": ".py",
   "mimetype": "text/x-python",
   "name": "python",
   "nbconvert_exporter": "python",
   "pygments_lexer": "ipython3",
   "version": "3.8.4"
  }
 },
 "nbformat": 4,
 "nbformat_minor": 2
}
